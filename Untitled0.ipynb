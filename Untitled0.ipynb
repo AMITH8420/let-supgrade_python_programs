{
  "nbformat": 4,
  "nbformat_minor": 0,
  "metadata": {
    "colab": {
      "name": "Untitled0.ipynb",
      "provenance": [],
      "collapsed_sections": []
    },
    "kernelspec": {
      "name": "python3",
      "display_name": "Python 3"
    }
  },
  "cells": [
    {
      "cell_type": "code",
      "metadata": {
        "id": "Qz9RlzMpmKeG"
      },
      "source": [
        ""
      ],
      "execution_count": null,
      "outputs": []
    },
    {
      "cell_type": "markdown",
      "metadata": {
        "id": "CnhyZiC21UGS"
      },
      "source": [
        "Assignments day 2"
      ]
    },
    {
      "cell_type": "code",
      "metadata": {
        "colab": {
          "base_uri": "https://localhost:8080/"
        },
        "id": "Bw2wJTzb1aj9",
        "outputId": "44631ed0-4ed0-4a6e-99ed-42b05fc0e385"
      },
      "source": [
        "str = \"Good@Morning@LetsUgrade\"\r\n",
        "str.endswith(\"e\")"
      ],
      "execution_count": 1,
      "outputs": [
        {
          "output_type": "execute_result",
          "data": {
            "text/plain": [
              "True"
            ]
          },
          "metadata": {
            "tags": []
          },
          "execution_count": 1
        }
      ]
    },
    {
      "cell_type": "code",
      "metadata": {
        "colab": {
          "base_uri": "https://localhost:8080/",
          "height": 35
        },
        "id": "oSoQMHhP2FlH",
        "outputId": "49f9953d-23e0-4aca-d0b1-89eba4fe9370"
      },
      "source": [
        "str = \"Good Morning\"\r\n",
        "str.capitalize()"
      ],
      "execution_count": 2,
      "outputs": [
        {
          "output_type": "execute_result",
          "data": {
            "application/vnd.google.colaboratory.intrinsic+json": {
              "type": "string"
            },
            "text/plain": [
              "'Good morning'"
            ]
          },
          "metadata": {
            "tags": []
          },
          "execution_count": 2
        }
      ]
    },
    {
      "cell_type": "code",
      "metadata": {
        "colab": {
          "base_uri": "https://localhost:8080/",
          "height": 35
        },
        "id": "bZAG7cW-2XhS",
        "outputId": "5587495a-9493-4084-e19c-ebd155cd0e2c"
      },
      "source": [
        "str = \"GOOD MORNING\"\r\n",
        "str.lower()"
      ],
      "execution_count": 3,
      "outputs": [
        {
          "output_type": "execute_result",
          "data": {
            "application/vnd.google.colaboratory.intrinsic+json": {
              "type": "string"
            },
            "text/plain": [
              "'good morning'"
            ]
          },
          "metadata": {
            "tags": []
          },
          "execution_count": 3
        }
      ]
    },
    {
      "cell_type": "code",
      "metadata": {
        "colab": {
          "base_uri": "https://localhost:8080/"
        },
        "id": "XQDIFYJn2mA9",
        "outputId": "517488be-a19e-418d-e9ac-1689eae29a2d"
      },
      "source": [
        "str = \"Hi Good Morning\"\r\n",
        "str.count(\"o\")"
      ],
      "execution_count": 4,
      "outputs": [
        {
          "output_type": "execute_result",
          "data": {
            "text/plain": [
              "3"
            ]
          },
          "metadata": {
            "tags": []
          },
          "execution_count": 4
        }
      ]
    },
    {
      "cell_type": "code",
      "metadata": {
        "colab": {
          "base_uri": "https://localhost:8080/"
        },
        "id": "EbCuyqYg20UY",
        "outputId": "e2412e5b-6a6d-48af-d93f-b6da25d6723b"
      },
      "source": [
        "str = \"Hi Today date is 12th December\"\r\n",
        "str.islower()"
      ],
      "execution_count": 5,
      "outputs": [
        {
          "output_type": "execute_result",
          "data": {
            "text/plain": [
              "False"
            ]
          },
          "metadata": {
            "tags": []
          },
          "execution_count": 5
        }
      ]
    },
    {
      "cell_type": "code",
      "metadata": {
        "colab": {
          "base_uri": "https://localhost:8080/"
        },
        "id": "6ntUbqwg3LEF",
        "outputId": "ec636982-c958-4f8f-ce76-c8879326ff51"
      },
      "source": [
        "lst1 = [1,2,3,4,5,6,7,1,4,7,10,2,5,8]\r\n",
        "lst1.copy()"
      ],
      "execution_count": 7,
      "outputs": [
        {
          "output_type": "execute_result",
          "data": {
            "text/plain": [
              "[1, 2, 3, 4, 5, 6, 7, 1, 4, 7, 10, 2, 5, 8]"
            ]
          },
          "metadata": {
            "tags": []
          },
          "execution_count": 7
        }
      ]
    },
    {
      "cell_type": "code",
      "metadata": {
        "colab": {
          "base_uri": "https://localhost:8080/"
        },
        "id": "dYU0K0nk2NRu",
        "outputId": "bee3aa5c-a562-474f-d89e-8239544eb5e0"
      },
      "source": [
        "lst1.sort()\r\n",
        "lst1"
      ],
      "execution_count": 8,
      "outputs": [
        {
          "output_type": "execute_result",
          "data": {
            "text/plain": [
              "[1, 1, 2, 2, 3, 4, 4, 5, 5, 6, 7, 7, 8, 10]"
            ]
          },
          "metadata": {
            "tags": []
          },
          "execution_count": 8
        }
      ]
    },
    {
      "cell_type": "code",
      "metadata": {
        "colab": {
          "base_uri": "https://localhost:8080/"
        },
        "id": "a9BCcNx23smH",
        "outputId": "0edb4e68-4abc-4b95-f24b-92b57ba2e3ac"
      },
      "source": [
        "lst1.pop(6)"
      ],
      "execution_count": 9,
      "outputs": [
        {
          "output_type": "execute_result",
          "data": {
            "text/plain": [
              "4"
            ]
          },
          "metadata": {
            "tags": []
          },
          "execution_count": 9
        }
      ]
    },
    {
      "cell_type": "code",
      "metadata": {
        "colab": {
          "base_uri": "https://localhost:8080/"
        },
        "id": "00o3NcIz3ylR",
        "outputId": "a52f4984-be3b-47b9-b325-288c0d4ac4e5"
      },
      "source": [
        "lst1.insert(0,0)\r\n",
        "lst1"
      ],
      "execution_count": 10,
      "outputs": [
        {
          "output_type": "execute_result",
          "data": {
            "text/plain": [
              "[0, 1, 1, 2, 2, 3, 4, 5, 5, 6, 7, 7, 8, 10]"
            ]
          },
          "metadata": {
            "tags": []
          },
          "execution_count": 10
        }
      ]
    },
    {
      "cell_type": "code",
      "metadata": {
        "colab": {
          "base_uri": "https://localhost:8080/"
        },
        "id": "NV5GrQla35Xb",
        "outputId": "1b6d882b-e279-459c-856b-f57de2c30b47"
      },
      "source": [
        "lst1.remove(1)\r\n",
        "lst1"
      ],
      "execution_count": 11,
      "outputs": [
        {
          "output_type": "execute_result",
          "data": {
            "text/plain": [
              "[0, 1, 2, 2, 3, 4, 5, 5, 6, 7, 7, 8, 10]"
            ]
          },
          "metadata": {
            "tags": []
          },
          "execution_count": 11
        }
      ]
    },
    {
      "cell_type": "code",
      "metadata": {
        "colab": {
          "base_uri": "https://localhost:8080/"
        },
        "id": "2Eh3uSUd4AZx",
        "outputId": "df02f66e-f68e-446c-a844-f3f6fcde5111"
      },
      "source": [
        "dct1 = {\"Key1\":1,\"Key2\":2,\"key3\":3,\"key4\":4,\"Key5\":5}\r\n",
        "dct1.copy()"
      ],
      "execution_count": 12,
      "outputs": [
        {
          "output_type": "execute_result",
          "data": {
            "text/plain": [
              "{'Key1': 1, 'Key2': 2, 'Key5': 5, 'key3': 3, 'key4': 4}"
            ]
          },
          "metadata": {
            "tags": []
          },
          "execution_count": 12
        }
      ]
    },
    {
      "cell_type": "code",
      "metadata": {
        "colab": {
          "base_uri": "https://localhost:8080/"
        },
        "id": "QFa1c73t4hNk",
        "outputId": "86a7351a-cdcb-46e9-ee18-ffe2f809d73c"
      },
      "source": [
        "dct1.items()"
      ],
      "execution_count": 13,
      "outputs": [
        {
          "output_type": "execute_result",
          "data": {
            "text/plain": [
              "dict_items([('Key1', 1), ('Key2', 2), ('key3', 3), ('key4', 4), ('Key5', 5)])"
            ]
          },
          "metadata": {
            "tags": []
          },
          "execution_count": 13
        }
      ]
    },
    {
      "cell_type": "code",
      "metadata": {
        "colab": {
          "base_uri": "https://localhost:8080/"
        },
        "id": "urXufqNh4mdB",
        "outputId": "edb3b0b1-2235-42d6-ce8b-15284ecfac2a"
      },
      "source": [
        "dct1.keys()"
      ],
      "execution_count": 15,
      "outputs": [
        {
          "output_type": "execute_result",
          "data": {
            "text/plain": [
              "dict_keys(['Key1', 'Key2', 'key3', 'key4', 'Key5'])"
            ]
          },
          "metadata": {
            "tags": []
          },
          "execution_count": 15
        }
      ]
    },
    {
      "cell_type": "code",
      "metadata": {
        "colab": {
          "base_uri": "https://localhost:8080/"
        },
        "id": "TW_GUpJi4thg",
        "outputId": "bb6065b5-97aa-4316-f387-64a8006651c5"
      },
      "source": [
        "dct1.pop(\"Key2\")"
      ],
      "execution_count": 16,
      "outputs": [
        {
          "output_type": "execute_result",
          "data": {
            "text/plain": [
              "2"
            ]
          },
          "metadata": {
            "tags": []
          },
          "execution_count": 16
        }
      ]
    },
    {
      "cell_type": "code",
      "metadata": {
        "colab": {
          "base_uri": "https://localhost:8080/"
        },
        "id": "0K5sxyBL41xv",
        "outputId": "0c805e59-a0c4-4d01-df09-a7886be2531e"
      },
      "source": [
        "dct1.popitem()"
      ],
      "execution_count": 17,
      "outputs": [
        {
          "output_type": "execute_result",
          "data": {
            "text/plain": [
              "('Key5', 5)"
            ]
          },
          "metadata": {
            "tags": []
          },
          "execution_count": 17
        }
      ]
    },
    {
      "cell_type": "code",
      "metadata": {
        "colab": {
          "base_uri": "https://localhost:8080/"
        },
        "id": "KKyDNtTx48zw",
        "outputId": "792e3f6d-ca34-4729-deaa-ca7a3a2c4d64"
      },
      "source": [
        "dct1"
      ],
      "execution_count": 18,
      "outputs": [
        {
          "output_type": "execute_result",
          "data": {
            "text/plain": [
              "{'Key1': 1, 'key3': 3, 'key4': 4}"
            ]
          },
          "metadata": {
            "tags": []
          },
          "execution_count": 18
        }
      ]
    },
    {
      "cell_type": "code",
      "metadata": {
        "colab": {
          "base_uri": "https://localhost:8080/"
        },
        "id": "QzfJq5uP5D33",
        "outputId": "8dc687bd-fe0d-42fa-c456-77323b32f874"
      },
      "source": [
        "dct1.values()"
      ],
      "execution_count": 19,
      "outputs": [
        {
          "output_type": "execute_result",
          "data": {
            "text/plain": [
              "dict_values([1, 3, 4])"
            ]
          },
          "metadata": {
            "tags": []
          },
          "execution_count": 19
        }
      ]
    }
  ]
}